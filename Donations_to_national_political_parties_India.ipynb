{
  "nbformat": 4,
  "nbformat_minor": 0,
  "metadata": {
    "colab": {
      "name": "Donations to national political parties - India.ipynb",
      "provenance": [],
      "collapsed_sections": [],
      "authorship_tag": "ABX9TyPVLbNHMYM8mrZow49xaKEJ",
      "include_colab_link": true
    },
    "kernelspec": {
      "name": "python3",
      "display_name": "Python 3"
    },
    "language_info": {
      "name": "python"
    }
  },
  "cells": [
    {
      "cell_type": "markdown",
      "metadata": {
        "id": "view-in-github",
        "colab_type": "text"
      },
      "source": [
        "<a href=\"https://colab.research.google.com/github/NimaZah/Political-Donation-in-India/blob/main/Donations_to_national_political_parties_India.ipynb\" target=\"_parent\"><img src=\"https://colab.research.google.com/assets/colab-badge.svg\" alt=\"Open In Colab\"/></a>"
      ]
    },
    {
      "cell_type": "markdown",
      "source": [
        "# Analysis of Monetary Donations to Political Parties in India\n",
        "\n",
        "\n",
        "\n",
        "\n",
        "\n",
        "> Nima Zahedinameghi *UQAM*\n",
        "\n",
        "## Introduction\n",
        "\n",
        "This analysis is based on a publicly available dataset on Kaggle.com. The dataset includes information about Indians' monetary contributions to major political parties in India. This analysis has no connection to any organization with which I am associated.\n",
        "\n",
        "\n",
        "\n"
      ],
      "metadata": {
        "id": "BCqvUgdYZDIh"
      }
    },
    {
      "cell_type": "code",
      "execution_count": 85,
      "metadata": {
        "id": "MkYcPNPPibhL"
      },
      "outputs": [],
      "source": [
        "import pandas as pd\n",
        "import numpy as np\n",
        "import matplotlib.pyplot as plt"
      ]
    },
    {
      "cell_type": "markdown",
      "source": [
        "Let's first load the data. Then, we'll be using ```df.head(5)``` to display the first 5 rows of the dataset. It will help us to understand the structure of the dataset."
      ],
      "metadata": {
        "id": "fx7mfQh4KW4h"
      }
    },
    {
      "cell_type": "code",
      "source": [
        "df = pd.read_csv('https://raw.githubusercontent.com/NimaZah/PoliticalDonationIndia/main/Donations%20to%20national%20political%20parties%20-%20India.csv')\n",
        "df.head(5)"
      ],
      "metadata": {
        "id": "SA9GHTRuizPE",
        "colab": {
          "base_uri": "https://localhost:8080/",
          "height": 371
        },
        "outputId": "8d5cd6ac-b34c-4977-c7b4-4f2401724aa6"
      },
      "execution_count": 86,
      "outputs": [
        {
          "output_type": "execute_result",
          "data": {
            "text/html": [
              "\n",
              "  <div id=\"df-fd639c4e-8175-4d21-b1f5-a87175a0a598\">\n",
              "    <div class=\"colab-df-container\">\n",
              "      <div>\n",
              "<style scoped>\n",
              "    .dataframe tbody tr th:only-of-type {\n",
              "        vertical-align: middle;\n",
              "    }\n",
              "\n",
              "    .dataframe tbody tr th {\n",
              "        vertical-align: top;\n",
              "    }\n",
              "\n",
              "    .dataframe thead th {\n",
              "        text-align: right;\n",
              "    }\n",
              "</style>\n",
              "<table border=\"1\" class=\"dataframe\">\n",
              "  <thead>\n",
              "    <tr style=\"text-align: right;\">\n",
              "      <th></th>\n",
              "      <th>Party</th>\n",
              "      <th>Name</th>\n",
              "      <th>Type</th>\n",
              "      <th>Address</th>\n",
              "      <th>PAN Given</th>\n",
              "      <th>Amount</th>\n",
              "      <th>Contribution Mode</th>\n",
              "      <th>FinancialYear</th>\n",
              "      <th>Unnamed: 8</th>\n",
              "      <th>Unnamed: 9</th>\n",
              "      <th>Unnamed: 10</th>\n",
              "      <th>Unnamed: 11</th>\n",
              "      <th>Unnamed: 12</th>\n",
              "      <th>Unnamed: 13</th>\n",
              "    </tr>\n",
              "  </thead>\n",
              "  <tbody>\n",
              "    <tr>\n",
              "      <th>0</th>\n",
              "      <td>CPI</td>\n",
              "      <td>Aziz Pasha</td>\n",
              "      <td>Others</td>\n",
              "      <td>16-B, Ferozeshah Road New Delhi-1</td>\n",
              "      <td>Y</td>\n",
              "      <td>₹ 3,000,000.00</td>\n",
              "      <td>CASH</td>\n",
              "      <td>2010-11</td>\n",
              "      <td>NaN</td>\n",
              "      <td>NaN</td>\n",
              "      <td>NaN</td>\n",
              "      <td>NaN</td>\n",
              "      <td>NaN</td>\n",
              "      <td>NaN</td>\n",
              "    </tr>\n",
              "    <tr>\n",
              "      <th>1</th>\n",
              "      <td>CPI(M)</td>\n",
              "      <td>V K Ramachandran</td>\n",
              "      <td>Others</td>\n",
              "      <td>No.1, First Floor Main Road Domlur Second Stag...</td>\n",
              "      <td>Y</td>\n",
              "      <td>₹ 10,000,000.00</td>\n",
              "      <td>000037, HDFC Bank Bengaluru, Dt. 16.03.2015, 5...</td>\n",
              "      <td>2014-15</td>\n",
              "      <td>NaN</td>\n",
              "      <td>NaN</td>\n",
              "      <td>NaN</td>\n",
              "      <td>NaN</td>\n",
              "      <td>NaN</td>\n",
              "      <td>NaN</td>\n",
              "    </tr>\n",
              "    <tr>\n",
              "      <th>2</th>\n",
              "      <td>INC</td>\n",
              "      <td>Dr. Manmohan Singh</td>\n",
              "      <td>Others</td>\n",
              "      <td>3, Motilal Nehru Place New Delhi</td>\n",
              "      <td>N</td>\n",
              "      <td>₹ 108,000.00</td>\n",
              "      <td>Cheque, State Bank of India Parliament House N...</td>\n",
              "      <td>2014-15</td>\n",
              "      <td>NaN</td>\n",
              "      <td>NaN</td>\n",
              "      <td>NaN</td>\n",
              "      <td>NaN</td>\n",
              "      <td>NaN</td>\n",
              "      <td>NaN</td>\n",
              "    </tr>\n",
              "    <tr>\n",
              "      <th>3</th>\n",
              "      <td>INC</td>\n",
              "      <td>Dr. Manda Jagnathan</td>\n",
              "      <td>Others</td>\n",
              "      <td>9,Firozshah Road New Delhi</td>\n",
              "      <td>N</td>\n",
              "      <td>₹ 54,000.00</td>\n",
              "      <td>Through Bank Transfer</td>\n",
              "      <td>2011-12</td>\n",
              "      <td>NaN</td>\n",
              "      <td>NaN</td>\n",
              "      <td>NaN</td>\n",
              "      <td>NaN</td>\n",
              "      <td>NaN</td>\n",
              "      <td>NaN</td>\n",
              "    </tr>\n",
              "    <tr>\n",
              "      <th>4</th>\n",
              "      <td>INC</td>\n",
              "      <td>Prof. K.V.Thomas</td>\n",
              "      <td>Others</td>\n",
              "      <td>17,Dr.B.R.Mehta Lane New Delhi</td>\n",
              "      <td>N</td>\n",
              "      <td>₹ 54,000.00</td>\n",
              "      <td>Through Bank Transfer</td>\n",
              "      <td>2011-12</td>\n",
              "      <td>NaN</td>\n",
              "      <td>NaN</td>\n",
              "      <td>NaN</td>\n",
              "      <td>NaN</td>\n",
              "      <td>NaN</td>\n",
              "      <td>NaN</td>\n",
              "    </tr>\n",
              "  </tbody>\n",
              "</table>\n",
              "</div>\n",
              "      <button class=\"colab-df-convert\" onclick=\"convertToInteractive('df-fd639c4e-8175-4d21-b1f5-a87175a0a598')\"\n",
              "              title=\"Convert this dataframe to an interactive table.\"\n",
              "              style=\"display:none;\">\n",
              "        \n",
              "  <svg xmlns=\"http://www.w3.org/2000/svg\" height=\"24px\"viewBox=\"0 0 24 24\"\n",
              "       width=\"24px\">\n",
              "    <path d=\"M0 0h24v24H0V0z\" fill=\"none\"/>\n",
              "    <path d=\"M18.56 5.44l.94 2.06.94-2.06 2.06-.94-2.06-.94-.94-2.06-.94 2.06-2.06.94zm-11 1L8.5 8.5l.94-2.06 2.06-.94-2.06-.94L8.5 2.5l-.94 2.06-2.06.94zm10 10l.94 2.06.94-2.06 2.06-.94-2.06-.94-.94-2.06-.94 2.06-2.06.94z\"/><path d=\"M17.41 7.96l-1.37-1.37c-.4-.4-.92-.59-1.43-.59-.52 0-1.04.2-1.43.59L10.3 9.45l-7.72 7.72c-.78.78-.78 2.05 0 2.83L4 21.41c.39.39.9.59 1.41.59.51 0 1.02-.2 1.41-.59l7.78-7.78 2.81-2.81c.8-.78.8-2.07 0-2.86zM5.41 20L4 18.59l7.72-7.72 1.47 1.35L5.41 20z\"/>\n",
              "  </svg>\n",
              "      </button>\n",
              "      \n",
              "  <style>\n",
              "    .colab-df-container {\n",
              "      display:flex;\n",
              "      flex-wrap:wrap;\n",
              "      gap: 12px;\n",
              "    }\n",
              "\n",
              "    .colab-df-convert {\n",
              "      background-color: #E8F0FE;\n",
              "      border: none;\n",
              "      border-radius: 50%;\n",
              "      cursor: pointer;\n",
              "      display: none;\n",
              "      fill: #1967D2;\n",
              "      height: 32px;\n",
              "      padding: 0 0 0 0;\n",
              "      width: 32px;\n",
              "    }\n",
              "\n",
              "    .colab-df-convert:hover {\n",
              "      background-color: #E2EBFA;\n",
              "      box-shadow: 0px 1px 2px rgba(60, 64, 67, 0.3), 0px 1px 3px 1px rgba(60, 64, 67, 0.15);\n",
              "      fill: #174EA6;\n",
              "    }\n",
              "\n",
              "    [theme=dark] .colab-df-convert {\n",
              "      background-color: #3B4455;\n",
              "      fill: #D2E3FC;\n",
              "    }\n",
              "\n",
              "    [theme=dark] .colab-df-convert:hover {\n",
              "      background-color: #434B5C;\n",
              "      box-shadow: 0px 1px 3px 1px rgba(0, 0, 0, 0.15);\n",
              "      filter: drop-shadow(0px 1px 2px rgba(0, 0, 0, 0.3));\n",
              "      fill: #FFFFFF;\n",
              "    }\n",
              "  </style>\n",
              "\n",
              "      <script>\n",
              "        const buttonEl =\n",
              "          document.querySelector('#df-fd639c4e-8175-4d21-b1f5-a87175a0a598 button.colab-df-convert');\n",
              "        buttonEl.style.display =\n",
              "          google.colab.kernel.accessAllowed ? 'block' : 'none';\n",
              "\n",
              "        async function convertToInteractive(key) {\n",
              "          const element = document.querySelector('#df-fd639c4e-8175-4d21-b1f5-a87175a0a598');\n",
              "          const dataTable =\n",
              "            await google.colab.kernel.invokeFunction('convertToInteractive',\n",
              "                                                     [key], {});\n",
              "          if (!dataTable) return;\n",
              "\n",
              "          const docLinkHtml = 'Like what you see? Visit the ' +\n",
              "            '<a target=\"_blank\" href=https://colab.research.google.com/notebooks/data_table.ipynb>data table notebook</a>'\n",
              "            + ' to learn more about interactive tables.';\n",
              "          element.innerHTML = '';\n",
              "          dataTable['output_type'] = 'display_data';\n",
              "          await google.colab.output.renderOutput(dataTable, element);\n",
              "          const docLink = document.createElement('div');\n",
              "          docLink.innerHTML = docLinkHtml;\n",
              "          element.appendChild(docLink);\n",
              "        }\n",
              "      </script>\n",
              "    </div>\n",
              "  </div>\n",
              "  "
            ],
            "text/plain": [
              "    Party                 Name    Type  ... Unnamed: 11 Unnamed: 12 Unnamed: 13\n",
              "0     CPI           Aziz Pasha  Others  ...         NaN         NaN         NaN\n",
              "1  CPI(M)     V K Ramachandran  Others  ...         NaN         NaN         NaN\n",
              "2     INC   Dr. Manmohan Singh  Others  ...         NaN         NaN         NaN\n",
              "3     INC  Dr. Manda Jagnathan  Others  ...         NaN         NaN         NaN\n",
              "4     INC     Prof. K.V.Thomas  Others  ...         NaN         NaN         NaN\n",
              "\n",
              "[5 rows x 14 columns]"
            ]
          },
          "metadata": {},
          "execution_count": 86
        }
      ]
    },
    {
      "cell_type": "markdown",
      "source": [
        "After examining the dataset, we see several unnamed columns. We'll be dropping those columns to make the dataset more clear."
      ],
      "metadata": {
        "id": "Wprv3MyPZGlo"
      }
    },
    {
      "cell_type": "code",
      "source": [
        "df.drop(df.columns[df.columns.str.contains('unnamed',case = False)],axis = 1, inplace = True)\n",
        "df.head()"
      ],
      "metadata": {
        "colab": {
          "base_uri": "https://localhost:8080/",
          "height": 206
        },
        "id": "YDtz84MpYtAu",
        "outputId": "197a6af1-5075-4889-e5c3-ddf840d83ace"
      },
      "execution_count": 87,
      "outputs": [
        {
          "output_type": "execute_result",
          "data": {
            "text/html": [
              "\n",
              "  <div id=\"df-b131dd17-c77f-4c16-9d39-240c7f924737\">\n",
              "    <div class=\"colab-df-container\">\n",
              "      <div>\n",
              "<style scoped>\n",
              "    .dataframe tbody tr th:only-of-type {\n",
              "        vertical-align: middle;\n",
              "    }\n",
              "\n",
              "    .dataframe tbody tr th {\n",
              "        vertical-align: top;\n",
              "    }\n",
              "\n",
              "    .dataframe thead th {\n",
              "        text-align: right;\n",
              "    }\n",
              "</style>\n",
              "<table border=\"1\" class=\"dataframe\">\n",
              "  <thead>\n",
              "    <tr style=\"text-align: right;\">\n",
              "      <th></th>\n",
              "      <th>Party</th>\n",
              "      <th>Name</th>\n",
              "      <th>Type</th>\n",
              "      <th>Address</th>\n",
              "      <th>PAN Given</th>\n",
              "      <th>Amount</th>\n",
              "      <th>Contribution Mode</th>\n",
              "      <th>FinancialYear</th>\n",
              "    </tr>\n",
              "  </thead>\n",
              "  <tbody>\n",
              "    <tr>\n",
              "      <th>0</th>\n",
              "      <td>CPI</td>\n",
              "      <td>Aziz Pasha</td>\n",
              "      <td>Others</td>\n",
              "      <td>16-B, Ferozeshah Road New Delhi-1</td>\n",
              "      <td>Y</td>\n",
              "      <td>₹ 3,000,000.00</td>\n",
              "      <td>CASH</td>\n",
              "      <td>2010-11</td>\n",
              "    </tr>\n",
              "    <tr>\n",
              "      <th>1</th>\n",
              "      <td>CPI(M)</td>\n",
              "      <td>V K Ramachandran</td>\n",
              "      <td>Others</td>\n",
              "      <td>No.1, First Floor Main Road Domlur Second Stag...</td>\n",
              "      <td>Y</td>\n",
              "      <td>₹ 10,000,000.00</td>\n",
              "      <td>000037, HDFC Bank Bengaluru, Dt. 16.03.2015, 5...</td>\n",
              "      <td>2014-15</td>\n",
              "    </tr>\n",
              "    <tr>\n",
              "      <th>2</th>\n",
              "      <td>INC</td>\n",
              "      <td>Dr. Manmohan Singh</td>\n",
              "      <td>Others</td>\n",
              "      <td>3, Motilal Nehru Place New Delhi</td>\n",
              "      <td>N</td>\n",
              "      <td>₹ 108,000.00</td>\n",
              "      <td>Cheque, State Bank of India Parliament House N...</td>\n",
              "      <td>2014-15</td>\n",
              "    </tr>\n",
              "    <tr>\n",
              "      <th>3</th>\n",
              "      <td>INC</td>\n",
              "      <td>Dr. Manda Jagnathan</td>\n",
              "      <td>Others</td>\n",
              "      <td>9,Firozshah Road New Delhi</td>\n",
              "      <td>N</td>\n",
              "      <td>₹ 54,000.00</td>\n",
              "      <td>Through Bank Transfer</td>\n",
              "      <td>2011-12</td>\n",
              "    </tr>\n",
              "    <tr>\n",
              "      <th>4</th>\n",
              "      <td>INC</td>\n",
              "      <td>Prof. K.V.Thomas</td>\n",
              "      <td>Others</td>\n",
              "      <td>17,Dr.B.R.Mehta Lane New Delhi</td>\n",
              "      <td>N</td>\n",
              "      <td>₹ 54,000.00</td>\n",
              "      <td>Through Bank Transfer</td>\n",
              "      <td>2011-12</td>\n",
              "    </tr>\n",
              "  </tbody>\n",
              "</table>\n",
              "</div>\n",
              "      <button class=\"colab-df-convert\" onclick=\"convertToInteractive('df-b131dd17-c77f-4c16-9d39-240c7f924737')\"\n",
              "              title=\"Convert this dataframe to an interactive table.\"\n",
              "              style=\"display:none;\">\n",
              "        \n",
              "  <svg xmlns=\"http://www.w3.org/2000/svg\" height=\"24px\"viewBox=\"0 0 24 24\"\n",
              "       width=\"24px\">\n",
              "    <path d=\"M0 0h24v24H0V0z\" fill=\"none\"/>\n",
              "    <path d=\"M18.56 5.44l.94 2.06.94-2.06 2.06-.94-2.06-.94-.94-2.06-.94 2.06-2.06.94zm-11 1L8.5 8.5l.94-2.06 2.06-.94-2.06-.94L8.5 2.5l-.94 2.06-2.06.94zm10 10l.94 2.06.94-2.06 2.06-.94-2.06-.94-.94-2.06-.94 2.06-2.06.94z\"/><path d=\"M17.41 7.96l-1.37-1.37c-.4-.4-.92-.59-1.43-.59-.52 0-1.04.2-1.43.59L10.3 9.45l-7.72 7.72c-.78.78-.78 2.05 0 2.83L4 21.41c.39.39.9.59 1.41.59.51 0 1.02-.2 1.41-.59l7.78-7.78 2.81-2.81c.8-.78.8-2.07 0-2.86zM5.41 20L4 18.59l7.72-7.72 1.47 1.35L5.41 20z\"/>\n",
              "  </svg>\n",
              "      </button>\n",
              "      \n",
              "  <style>\n",
              "    .colab-df-container {\n",
              "      display:flex;\n",
              "      flex-wrap:wrap;\n",
              "      gap: 12px;\n",
              "    }\n",
              "\n",
              "    .colab-df-convert {\n",
              "      background-color: #E8F0FE;\n",
              "      border: none;\n",
              "      border-radius: 50%;\n",
              "      cursor: pointer;\n",
              "      display: none;\n",
              "      fill: #1967D2;\n",
              "      height: 32px;\n",
              "      padding: 0 0 0 0;\n",
              "      width: 32px;\n",
              "    }\n",
              "\n",
              "    .colab-df-convert:hover {\n",
              "      background-color: #E2EBFA;\n",
              "      box-shadow: 0px 1px 2px rgba(60, 64, 67, 0.3), 0px 1px 3px 1px rgba(60, 64, 67, 0.15);\n",
              "      fill: #174EA6;\n",
              "    }\n",
              "\n",
              "    [theme=dark] .colab-df-convert {\n",
              "      background-color: #3B4455;\n",
              "      fill: #D2E3FC;\n",
              "    }\n",
              "\n",
              "    [theme=dark] .colab-df-convert:hover {\n",
              "      background-color: #434B5C;\n",
              "      box-shadow: 0px 1px 3px 1px rgba(0, 0, 0, 0.15);\n",
              "      filter: drop-shadow(0px 1px 2px rgba(0, 0, 0, 0.3));\n",
              "      fill: #FFFFFF;\n",
              "    }\n",
              "  </style>\n",
              "\n",
              "      <script>\n",
              "        const buttonEl =\n",
              "          document.querySelector('#df-b131dd17-c77f-4c16-9d39-240c7f924737 button.colab-df-convert');\n",
              "        buttonEl.style.display =\n",
              "          google.colab.kernel.accessAllowed ? 'block' : 'none';\n",
              "\n",
              "        async function convertToInteractive(key) {\n",
              "          const element = document.querySelector('#df-b131dd17-c77f-4c16-9d39-240c7f924737');\n",
              "          const dataTable =\n",
              "            await google.colab.kernel.invokeFunction('convertToInteractive',\n",
              "                                                     [key], {});\n",
              "          if (!dataTable) return;\n",
              "\n",
              "          const docLinkHtml = 'Like what you see? Visit the ' +\n",
              "            '<a target=\"_blank\" href=https://colab.research.google.com/notebooks/data_table.ipynb>data table notebook</a>'\n",
              "            + ' to learn more about interactive tables.';\n",
              "          element.innerHTML = '';\n",
              "          dataTable['output_type'] = 'display_data';\n",
              "          await google.colab.output.renderOutput(dataTable, element);\n",
              "          const docLink = document.createElement('div');\n",
              "          docLink.innerHTML = docLinkHtml;\n",
              "          element.appendChild(docLink);\n",
              "        }\n",
              "      </script>\n",
              "    </div>\n",
              "  </div>\n",
              "  "
            ],
            "text/plain": [
              "    Party  ... FinancialYear\n",
              "0     CPI  ...       2010-11\n",
              "1  CPI(M)  ...       2014-15\n",
              "2     INC  ...       2014-15\n",
              "3     INC  ...       2011-12\n",
              "4     INC  ...       2011-12\n",
              "\n",
              "[5 rows x 8 columns]"
            ]
          },
          "metadata": {},
          "execution_count": 87
        }
      ]
    },
    {
      "cell_type": "markdown",
      "source": [
        "We use ```shape()``` to find the number of rows and columns in the dataset."
      ],
      "metadata": {
        "id": "Hce0otVLMoPT"
      }
    },
    {
      "cell_type": "code",
      "source": [
        "df.shape"
      ],
      "metadata": {
        "id": "eZJHMxblkUx0",
        "colab": {
          "base_uri": "https://localhost:8080/"
        },
        "outputId": "93a32e1c-b5e6-4e3d-e699-8e76d0ce376a"
      },
      "execution_count": 88,
      "outputs": [
        {
          "output_type": "execute_result",
          "data": {
            "text/plain": [
              "(13573, 8)"
            ]
          },
          "metadata": {},
          "execution_count": 88
        }
      ]
    },
    {
      "cell_type": "markdown",
      "source": [
        "The ```df.dtypes()``` command will display the data types of each column."
      ],
      "metadata": {
        "id": "aruC1bqpM8MK"
      }
    },
    {
      "cell_type": "code",
      "source": [
        "df.dtypes"
      ],
      "metadata": {
        "id": "BF466V-M1Hld",
        "colab": {
          "base_uri": "https://localhost:8080/"
        },
        "outputId": "0ecaa83d-389a-4aa0-f091-ac566a7ce27e"
      },
      "execution_count": 89,
      "outputs": [
        {
          "output_type": "execute_result",
          "data": {
            "text/plain": [
              "Party                object\n",
              "Name                 object\n",
              "Type                 object\n",
              "Address              object\n",
              "PAN Given            object\n",
              "Amount               object\n",
              "Contribution Mode    object\n",
              "FinancialYear        object\n",
              "dtype: object"
            ]
          },
          "metadata": {},
          "execution_count": 89
        }
      ]
    },
    {
      "cell_type": "markdown",
      "source": [
        "```df.describe()``` will display the basic statistics of the dataset."
      ],
      "metadata": {
        "id": "DQ7mAr-ENTn6"
      }
    },
    {
      "cell_type": "code",
      "source": [
        "df.describe()"
      ],
      "metadata": {
        "id": "UWUacVmp1K-W",
        "colab": {
          "base_uri": "https://localhost:8080/",
          "height": 174
        },
        "outputId": "fe61af76-acd4-476b-cc66-fd6ee1355c57"
      },
      "execution_count": 90,
      "outputs": [
        {
          "output_type": "execute_result",
          "data": {
            "text/html": [
              "\n",
              "  <div id=\"df-16c01df4-54fa-475a-8287-bbd9840f2244\">\n",
              "    <div class=\"colab-df-container\">\n",
              "      <div>\n",
              "<style scoped>\n",
              "    .dataframe tbody tr th:only-of-type {\n",
              "        vertical-align: middle;\n",
              "    }\n",
              "\n",
              "    .dataframe tbody tr th {\n",
              "        vertical-align: top;\n",
              "    }\n",
              "\n",
              "    .dataframe thead th {\n",
              "        text-align: right;\n",
              "    }\n",
              "</style>\n",
              "<table border=\"1\" class=\"dataframe\">\n",
              "  <thead>\n",
              "    <tr style=\"text-align: right;\">\n",
              "      <th></th>\n",
              "      <th>Party</th>\n",
              "      <th>Name</th>\n",
              "      <th>Type</th>\n",
              "      <th>Address</th>\n",
              "      <th>PAN Given</th>\n",
              "      <th>Amount</th>\n",
              "      <th>Contribution Mode</th>\n",
              "      <th>FinancialYear</th>\n",
              "    </tr>\n",
              "  </thead>\n",
              "  <tbody>\n",
              "    <tr>\n",
              "      <th>count</th>\n",
              "      <td>13573</td>\n",
              "      <td>13528</td>\n",
              "      <td>13573</td>\n",
              "      <td>13573</td>\n",
              "      <td>13573</td>\n",
              "      <td>13573</td>\n",
              "      <td>13339</td>\n",
              "      <td>13573</td>\n",
              "    </tr>\n",
              "    <tr>\n",
              "      <th>unique</th>\n",
              "      <td>5</td>\n",
              "      <td>10923</td>\n",
              "      <td>2</td>\n",
              "      <td>7280</td>\n",
              "      <td>4</td>\n",
              "      <td>682</td>\n",
              "      <td>10403</td>\n",
              "      <td>12</td>\n",
              "    </tr>\n",
              "    <tr>\n",
              "      <th>top</th>\n",
              "      <td>BJP</td>\n",
              "      <td>General Electoral Trust</td>\n",
              "      <td>Others</td>\n",
              "      <td>--</td>\n",
              "      <td>N</td>\n",
              "      <td>₹ 100,000.00</td>\n",
              "      <td>Cash</td>\n",
              "      <td>2012-13</td>\n",
              "    </tr>\n",
              "    <tr>\n",
              "      <th>freq</th>\n",
              "      <td>8782</td>\n",
              "      <td>64</td>\n",
              "      <td>13442</td>\n",
              "      <td>3155</td>\n",
              "      <td>7897</td>\n",
              "      <td>2435</td>\n",
              "      <td>584</td>\n",
              "      <td>3776</td>\n",
              "    </tr>\n",
              "  </tbody>\n",
              "</table>\n",
              "</div>\n",
              "      <button class=\"colab-df-convert\" onclick=\"convertToInteractive('df-16c01df4-54fa-475a-8287-bbd9840f2244')\"\n",
              "              title=\"Convert this dataframe to an interactive table.\"\n",
              "              style=\"display:none;\">\n",
              "        \n",
              "  <svg xmlns=\"http://www.w3.org/2000/svg\" height=\"24px\"viewBox=\"0 0 24 24\"\n",
              "       width=\"24px\">\n",
              "    <path d=\"M0 0h24v24H0V0z\" fill=\"none\"/>\n",
              "    <path d=\"M18.56 5.44l.94 2.06.94-2.06 2.06-.94-2.06-.94-.94-2.06-.94 2.06-2.06.94zm-11 1L8.5 8.5l.94-2.06 2.06-.94-2.06-.94L8.5 2.5l-.94 2.06-2.06.94zm10 10l.94 2.06.94-2.06 2.06-.94-2.06-.94-.94-2.06-.94 2.06-2.06.94z\"/><path d=\"M17.41 7.96l-1.37-1.37c-.4-.4-.92-.59-1.43-.59-.52 0-1.04.2-1.43.59L10.3 9.45l-7.72 7.72c-.78.78-.78 2.05 0 2.83L4 21.41c.39.39.9.59 1.41.59.51 0 1.02-.2 1.41-.59l7.78-7.78 2.81-2.81c.8-.78.8-2.07 0-2.86zM5.41 20L4 18.59l7.72-7.72 1.47 1.35L5.41 20z\"/>\n",
              "  </svg>\n",
              "      </button>\n",
              "      \n",
              "  <style>\n",
              "    .colab-df-container {\n",
              "      display:flex;\n",
              "      flex-wrap:wrap;\n",
              "      gap: 12px;\n",
              "    }\n",
              "\n",
              "    .colab-df-convert {\n",
              "      background-color: #E8F0FE;\n",
              "      border: none;\n",
              "      border-radius: 50%;\n",
              "      cursor: pointer;\n",
              "      display: none;\n",
              "      fill: #1967D2;\n",
              "      height: 32px;\n",
              "      padding: 0 0 0 0;\n",
              "      width: 32px;\n",
              "    }\n",
              "\n",
              "    .colab-df-convert:hover {\n",
              "      background-color: #E2EBFA;\n",
              "      box-shadow: 0px 1px 2px rgba(60, 64, 67, 0.3), 0px 1px 3px 1px rgba(60, 64, 67, 0.15);\n",
              "      fill: #174EA6;\n",
              "    }\n",
              "\n",
              "    [theme=dark] .colab-df-convert {\n",
              "      background-color: #3B4455;\n",
              "      fill: #D2E3FC;\n",
              "    }\n",
              "\n",
              "    [theme=dark] .colab-df-convert:hover {\n",
              "      background-color: #434B5C;\n",
              "      box-shadow: 0px 1px 3px 1px rgba(0, 0, 0, 0.15);\n",
              "      filter: drop-shadow(0px 1px 2px rgba(0, 0, 0, 0.3));\n",
              "      fill: #FFFFFF;\n",
              "    }\n",
              "  </style>\n",
              "\n",
              "      <script>\n",
              "        const buttonEl =\n",
              "          document.querySelector('#df-16c01df4-54fa-475a-8287-bbd9840f2244 button.colab-df-convert');\n",
              "        buttonEl.style.display =\n",
              "          google.colab.kernel.accessAllowed ? 'block' : 'none';\n",
              "\n",
              "        async function convertToInteractive(key) {\n",
              "          const element = document.querySelector('#df-16c01df4-54fa-475a-8287-bbd9840f2244');\n",
              "          const dataTable =\n",
              "            await google.colab.kernel.invokeFunction('convertToInteractive',\n",
              "                                                     [key], {});\n",
              "          if (!dataTable) return;\n",
              "\n",
              "          const docLinkHtml = 'Like what you see? Visit the ' +\n",
              "            '<a target=\"_blank\" href=https://colab.research.google.com/notebooks/data_table.ipynb>data table notebook</a>'\n",
              "            + ' to learn more about interactive tables.';\n",
              "          element.innerHTML = '';\n",
              "          dataTable['output_type'] = 'display_data';\n",
              "          await google.colab.output.renderOutput(dataTable, element);\n",
              "          const docLink = document.createElement('div');\n",
              "          docLink.innerHTML = docLinkHtml;\n",
              "          element.appendChild(docLink);\n",
              "        }\n",
              "      </script>\n",
              "    </div>\n",
              "  </div>\n",
              "  "
            ],
            "text/plain": [
              "        Party                     Name  ... Contribution Mode FinancialYear\n",
              "count   13573                    13528  ...             13339         13573\n",
              "unique      5                    10923  ...             10403            12\n",
              "top       BJP  General Electoral Trust  ...              Cash       2012-13\n",
              "freq     8782                       64  ...               584          3776\n",
              "\n",
              "[4 rows x 8 columns]"
            ]
          },
          "metadata": {},
          "execution_count": 90
        }
      ]
    },
    {
      "cell_type": "markdown",
      "source": [
        "A little bit of data cleaning! \n",
        "First, we need to remove the special character from the Amount column.\n",
        "Second, the datatype of Amount needs to be converted to float.\n"
      ],
      "metadata": {
        "id": "yIY20JZe4wb0"
      }
    },
    {
      "cell_type": "code",
      "source": [
        "df['Amount'] = df['Amount'].str.replace('₹','')\n",
        "df['Amount'] = df['Amount'].str.replace(',','')\n",
        "df['Amount'] = df['Amount'].astype(float)"
      ],
      "metadata": {
        "id": "anEdkHmD4fOE"
      },
      "execution_count": 91,
      "outputs": []
    },
    {
      "cell_type": "markdown",
      "source": [
        "We compute and show the total amount of donation received by each party. The results clearly show that the BJP received the highest amount of money."
      ],
      "metadata": {
        "id": "RitEEru-P0NK"
      }
    },
    {
      "cell_type": "code",
      "source": [
        "df.groupby('Party')['Amount'].sum()"
      ],
      "metadata": {
        "colab": {
          "base_uri": "https://localhost:8080/"
        },
        "id": "bQrjBN0xNxIG",
        "outputId": "6d14b5b4-32c7-400e-8b03-2bf6303c54ba"
      },
      "execution_count": 93,
      "outputs": [
        {
          "output_type": "execute_result",
          "data": {
            "text/plain": [
              "Party\n",
              "BJP       9.295526e+09\n",
              "CPI       6.812370e+07\n",
              "CPI(M)    1.506221e+08\n",
              "INC       4.031487e+09\n",
              "NCP       6.479114e+08\n",
              "Name: Amount, dtype: float64"
            ]
          },
          "metadata": {},
          "execution_count": 93
        }
      ]
    },
    {
      "cell_type": "markdown",
      "source": [
        "We visualize the above finding in a bar chart. More specifically, we want to know which party received the most donations in India."
      ],
      "metadata": {
        "id": "gsfG5sBzPexS"
      }
    },
    {
      "cell_type": "code",
      "source": [
        "df.groupby(['Party']).agg({'Amount':'sum'}).plot.bar()"
      ],
      "metadata": {
        "colab": {
          "base_uri": "https://localhost:8080/",
          "height": 330
        },
        "id": "hRV5-VUi1d7l",
        "outputId": "d0288957-994a-4cb9-ef33-a02a83d61f6c"
      },
      "execution_count": 92,
      "outputs": [
        {
          "output_type": "execute_result",
          "data": {
            "text/plain": [
              "<matplotlib.axes._subplots.AxesSubplot at 0x7f8583b43250>"
            ]
          },
          "metadata": {},
          "execution_count": 92
        },
        {
          "output_type": "display_data",
          "data": {
            "image/png": "[encoded data removed]",
            "text/plain": [
              "<Figure size 432x288 with 1 Axes>"
            ]
          },
          "metadata": {
            "needs_background": "light"
          }
        }
      ]
    },
    {
      "cell_type": "markdown",
      "source": [
        "We calculate and show the percentage of donations recived by each party"
      ],
      "metadata": {
        "id": "xUltop9S6E5r"
      }
    },
    {
      "cell_type": "code",
      "source": [
        "df['Amount'].groupby(df['Party']).sum() / df['Amount'].sum() * 100"
      ],
      "metadata": {
        "colab": {
          "base_uri": "https://localhost:8080/"
        },
        "id": "IkdUbdhTNzWO",
        "outputId": "36c94d78-c251-45c5-9cdb-6b50043ea207"
      },
      "execution_count": 94,
      "outputs": [
        {
          "output_type": "execute_result",
          "data": {
            "text/plain": [
              "Party\n",
              "BJP       65.490642\n",
              "CPI        0.479958\n",
              "CPI(M)     1.061192\n",
              "INC       28.403416\n",
              "NCP        4.564791\n",
              "Name: Amount, dtype: float64"
            ]
          },
          "metadata": {},
          "execution_count": 94
        }
      ]
    },
    {
      "cell_type": "markdown",
      "source": [
        "We visualize the percentages in a pie chart"
      ],
      "metadata": {
        "id": "LLC3Fiqn6QaM"
      }
    },
    {
      "cell_type": "code",
      "source": [
        "df['Amount'].groupby(df['Party']).sum().nlargest(3).plot(kind='pie', subplots=True, title='Top 3 Parties', autopct='%.2f%%')\n",
        "plt.show()"
      ],
      "metadata": {
        "colab": {
          "base_uri": "https://localhost:8080/",
          "height": 277
        },
        "id": "OLmRtVN4OhvF",
        "outputId": "11f640ca-0914-45c0-f95b-6f0d87f53a2d"
      },
      "execution_count": 95,
      "outputs": [
        {
          "output_type": "display_data",
          "data": {
            "image/png": "[encoded data removed]",
            "text/plain": [
              "<Figure size 432x288 with 1 Axes>"
            ]
          },
          "metadata": {}
        }
      ]
    },
    {
      "cell_type": "markdown",
      "source": [
        "Then, we use ```idxmax()``` to quickly find the highest amount of donation received by a single party. The formulation of our question is as follows: \n",
        "\n",
        "*What party has received the highest donation in India?*"
      ],
      "metadata": {
        "id": "a3vuVQ7y7ISd"
      }
    },
    {
      "cell_type": "code",
      "source": [
        "df.loc[df['Amount'].idxmax()]"
      ],
      "metadata": {
        "colab": {
          "base_uri": "https://localhost:8080/"
        },
        "id": "V9m00e2dN2o-",
        "outputId": "8689ac30-8c24-4b9d-f3d1-dc2cf9a025df"
      },
      "execution_count": 96,
      "outputs": [
        {
          "output_type": "execute_result",
          "data": {
            "text/plain": [
              "Party                                    BJP\n",
              "Name                 General Electoral Trust\n",
              "Type                         Electoral Trust\n",
              "Address                                   --\n",
              "PAN Given                                  N\n",
              "Amount                                 5e+08\n",
              "Contribution Mode               9, HDFC Bank\n",
              "FinancialYear                        2014-15\n",
              "Name: 3095, dtype: object"
            ]
          },
          "metadata": {},
          "execution_count": 96
        }
      ]
    },
    {
      "cell_type": "markdown",
      "source": [
        "Then, we use ```idxmin()``` to quickly find the lowest amount of donation received by a single party. The formulation of our question is as follows: \n",
        "\n",
        "*What party has received the lowest donation in India?*"
      ],
      "metadata": {
        "id": "-aHGbYFl7tmF"
      }
    },
    {
      "cell_type": "code",
      "source": [
        "df.loc[df['Amount'].idxmin()]\n"
      ],
      "metadata": {
        "id": "acGKLi2iN5Ru",
        "colab": {
          "base_uri": "https://localhost:8080/"
        },
        "outputId": "e01c5ed4-5c17-4d10-9164-0d08d536e962"
      },
      "execution_count": 97,
      "outputs": [
        {
          "output_type": "execute_result",
          "data": {
            "text/plain": [
              "Party                                                     CPI\n",
              "Name                            Shameem Faizee Secretary, CPI\n",
              "Type                                                   Others\n",
              "Address              AB-4, Purana Quila Road New Delhi-110034\n",
              "PAN Given                                                   Y\n",
              "Amount                                                   1875\n",
              "Contribution Mode                 Cash, Party Fund Collection\n",
              "FinancialYear                                         2014-15\n",
              "Name: 9758, dtype: object"
            ]
          },
          "metadata": {},
          "execution_count": 97
        }
      ]
    },
    {
      "cell_type": "markdown",
      "source": [
        "Let's create a graph to show the total donation received in each financial year. The results show that most donations were made in 2014-15."
      ],
      "metadata": {
        "id": "YDy-xt2Y8gNj"
      }
    },
    {
      "cell_type": "code",
      "source": [
        "df['Amount'].groupby(df['FinancialYear']).sum().plot.bar()"
      ],
      "metadata": {
        "colab": {
          "base_uri": "https://localhost:8080/",
          "height": 339
        },
        "id": "pTLsOq4vsR1M",
        "outputId": "dd21e8bd-4ade-4fc2-a122-7462b09e8f43"
      },
      "execution_count": 98,
      "outputs": [
        {
          "output_type": "execute_result",
          "data": {
            "text/plain": [
              "<matplotlib.axes._subplots.AxesSubplot at 0x7f8583bcb3d0>"
            ]
          },
          "metadata": {},
          "execution_count": 98
        },
        {
          "output_type": "display_data",
          "data": {
            "image/png": "[encoded data removed]",
            "text/plain": [
              "<Figure size 432x288 with 1 Axes>"
            ]
          },
          "metadata": {
            "needs_background": "light"
          }
        }
      ]
    },
    {
      "cell_type": "markdown",
      "source": [
        "Now we would like to know the answer to the following question:  What is the total amount received by each party over time?"
      ],
      "metadata": {
        "id": "cKzG4qSMKkoF"
      }
    },
    {
      "cell_type": "code",
      "source": [
        "df['Amount'].groupby([df['FinancialYear'], df['Party']]).sum().unstack()"
      ],
      "metadata": {
        "colab": {
          "base_uri": "https://localhost:8080/",
          "height": 457
        },
        "id": "ePlE4JSNXzCY",
        "outputId": "7b887551-3634-4926-9cf9-af68fd974b4a"
      },
      "execution_count": 99,
      "outputs": [
        {
          "output_type": "execute_result",
          "data": {
            "text/html": [
              "\n",
              "  <div id=\"df-0182c3fa-e2f2-4f43-90d9-1d1c0d6463ff\">\n",
              "    <div class=\"colab-df-container\">\n",
              "      <div>\n",
              "<style scoped>\n",
              "    .dataframe tbody tr th:only-of-type {\n",
              "        vertical-align: middle;\n",
              "    }\n",
              "\n",
              "    .dataframe tbody tr th {\n",
              "        vertical-align: top;\n",
              "    }\n",
              "\n",
              "    .dataframe thead th {\n",
              "        text-align: right;\n",
              "    }\n",
              "</style>\n",
              "<table border=\"1\" class=\"dataframe\">\n",
              "  <thead>\n",
              "    <tr style=\"text-align: right;\">\n",
              "      <th>Party</th>\n",
              "      <th>BJP</th>\n",
              "      <th>CPI</th>\n",
              "      <th>CPI(M)</th>\n",
              "      <th>INC</th>\n",
              "      <th>NCP</th>\n",
              "    </tr>\n",
              "    <tr>\n",
              "      <th>FinancialYear</th>\n",
              "      <th></th>\n",
              "      <th></th>\n",
              "      <th></th>\n",
              "      <th></th>\n",
              "      <th></th>\n",
              "    </tr>\n",
              "  </thead>\n",
              "  <tbody>\n",
              "    <tr>\n",
              "      <th>2003-04</th>\n",
              "      <td>1.168820e+08</td>\n",
              "      <td>779148.0</td>\n",
              "      <td>200000.0</td>\n",
              "      <td>2.830110e+07</td>\n",
              "      <td>NaN</td>\n",
              "    </tr>\n",
              "    <tr>\n",
              "      <th>2004-05</th>\n",
              "      <td>3.395213e+08</td>\n",
              "      <td>630000.0</td>\n",
              "      <td>896355.0</td>\n",
              "      <td>3.205556e+08</td>\n",
              "      <td>NaN</td>\n",
              "    </tr>\n",
              "    <tr>\n",
              "      <th>2005-06</th>\n",
              "      <td>3.615611e+07</td>\n",
              "      <td>3988690.0</td>\n",
              "      <td>550000.0</td>\n",
              "      <td>5.921249e+07</td>\n",
              "      <td>NaN</td>\n",
              "    </tr>\n",
              "    <tr>\n",
              "      <th>2006-07</th>\n",
              "      <td>2.955067e+07</td>\n",
              "      <td>1229400.0</td>\n",
              "      <td>1124719.0</td>\n",
              "      <td>1.212735e+08</td>\n",
              "      <td>NaN</td>\n",
              "    </tr>\n",
              "    <tr>\n",
              "      <th>2007-08</th>\n",
              "      <td>2.496237e+08</td>\n",
              "      <td>4125800.0</td>\n",
              "      <td>7226116.0</td>\n",
              "      <td>7.887345e+07</td>\n",
              "      <td>10225000.0</td>\n",
              "    </tr>\n",
              "    <tr>\n",
              "      <th>2008-09</th>\n",
              "      <td>3.060572e+08</td>\n",
              "      <td>2585000.0</td>\n",
              "      <td>4155000.0</td>\n",
              "      <td>2.790185e+08</td>\n",
              "      <td>56091000.0</td>\n",
              "    </tr>\n",
              "    <tr>\n",
              "      <th>2009-10</th>\n",
              "      <td>8.232201e+08</td>\n",
              "      <td>8667852.0</td>\n",
              "      <td>3962049.0</td>\n",
              "      <td>8.405212e+08</td>\n",
              "      <td>30300000.0</td>\n",
              "    </tr>\n",
              "    <tr>\n",
              "      <th>2010-11</th>\n",
              "      <td>1.462533e+08</td>\n",
              "      <td>10811465.0</td>\n",
              "      <td>15357072.0</td>\n",
              "      <td>8.020588e+07</td>\n",
              "      <td>1355000.0</td>\n",
              "    </tr>\n",
              "    <tr>\n",
              "      <th>2011-12</th>\n",
              "      <td>3.341941e+08</td>\n",
              "      <td>5982675.0</td>\n",
              "      <td>23838657.0</td>\n",
              "      <td>9.591066e+07</td>\n",
              "      <td>21000000.0</td>\n",
              "    </tr>\n",
              "    <tr>\n",
              "      <th>2012-13</th>\n",
              "      <td>8.319245e+08</td>\n",
              "      <td>3695449.0</td>\n",
              "      <td>38139996.0</td>\n",
              "      <td>1.171662e+08</td>\n",
              "      <td>504000.0</td>\n",
              "    </tr>\n",
              "    <tr>\n",
              "      <th>2013-14</th>\n",
              "      <td>1.708636e+09</td>\n",
              "      <td>12281544.0</td>\n",
              "      <td>20974666.0</td>\n",
              "      <td>5.958377e+08</td>\n",
              "      <td>140200000.0</td>\n",
              "    </tr>\n",
              "    <tr>\n",
              "      <th>2014-15</th>\n",
              "      <td>4.373507e+09</td>\n",
              "      <td>13346675.0</td>\n",
              "      <td>34197498.0</td>\n",
              "      <td>1.414611e+09</td>\n",
              "      <td>388236419.0</td>\n",
              "    </tr>\n",
              "  </tbody>\n",
              "</table>\n",
              "</div>\n",
              "      <button class=\"colab-df-convert\" onclick=\"convertToInteractive('df-0182c3fa-e2f2-4f43-90d9-1d1c0d6463ff')\"\n",
              "              title=\"Convert this dataframe to an interactive table.\"\n",
              "              style=\"display:none;\">\n",
              "        \n",
              "  <svg xmlns=\"http://www.w3.org/2000/svg\" height=\"24px\"viewBox=\"0 0 24 24\"\n",
              "       width=\"24px\">\n",
              "    <path d=\"M0 0h24v24H0V0z\" fill=\"none\"/>\n",
              "    <path d=\"M18.56 5.44l.94 2.06.94-2.06 2.06-.94-2.06-.94-.94-2.06-.94 2.06-2.06.94zm-11 1L8.5 8.5l.94-2.06 2.06-.94-2.06-.94L8.5 2.5l-.94 2.06-2.06.94zm10 10l.94 2.06.94-2.06 2.06-.94-2.06-.94-.94-2.06-.94 2.06-2.06.94z\"/><path d=\"M17.41 7.96l-1.37-1.37c-.4-.4-.92-.59-1.43-.59-.52 0-1.04.2-1.43.59L10.3 9.45l-7.72 7.72c-.78.78-.78 2.05 0 2.83L4 21.41c.39.39.9.59 1.41.59.51 0 1.02-.2 1.41-.59l7.78-7.78 2.81-2.81c.8-.78.8-2.07 0-2.86zM5.41 20L4 18.59l7.72-7.72 1.47 1.35L5.41 20z\"/>\n",
              "  </svg>\n",
              "      </button>\n",
              "      \n",
              "  <style>\n",
              "    .colab-df-container {\n",
              "      display:flex;\n",
              "      flex-wrap:wrap;\n",
              "      gap: 12px;\n",
              "    }\n",
              "\n",
              "    .colab-df-convert {\n",
              "      background-color: #E8F0FE;\n",
              "      border: none;\n",
              "      border-radius: 50%;\n",
              "      cursor: pointer;\n",
              "      display: none;\n",
              "      fill: #1967D2;\n",
              "      height: 32px;\n",
              "      padding: 0 0 0 0;\n",
              "      width: 32px;\n",
              "    }\n",
              "\n",
              "    .colab-df-convert:hover {\n",
              "      background-color: #E2EBFA;\n",
              "      box-shadow: 0px 1px 2px rgba(60, 64, 67, 0.3), 0px 1px 3px 1px rgba(60, 64, 67, 0.15);\n",
              "      fill: #174EA6;\n",
              "    }\n",
              "\n",
              "    [theme=dark] .colab-df-convert {\n",
              "      background-color: #3B4455;\n",
              "      fill: #D2E3FC;\n",
              "    }\n",
              "\n",
              "    [theme=dark] .colab-df-convert:hover {\n",
              "      background-color: #434B5C;\n",
              "      box-shadow: 0px 1px 3px 1px rgba(0, 0, 0, 0.15);\n",
              "      filter: drop-shadow(0px 1px 2px rgba(0, 0, 0, 0.3));\n",
              "      fill: #FFFFFF;\n",
              "    }\n",
              "  </style>\n",
              "\n",
              "      <script>\n",
              "        const buttonEl =\n",
              "          document.querySelector('#df-0182c3fa-e2f2-4f43-90d9-1d1c0d6463ff button.colab-df-convert');\n",
              "        buttonEl.style.display =\n",
              "          google.colab.kernel.accessAllowed ? 'block' : 'none';\n",
              "\n",
              "        async function convertToInteractive(key) {\n",
              "          const element = document.querySelector('#df-0182c3fa-e2f2-4f43-90d9-1d1c0d6463ff');\n",
              "          const dataTable =\n",
              "            await google.colab.kernel.invokeFunction('convertToInteractive',\n",
              "                                                     [key], {});\n",
              "          if (!dataTable) return;\n",
              "\n",
              "          const docLinkHtml = 'Like what you see? Visit the ' +\n",
              "            '<a target=\"_blank\" href=https://colab.research.google.com/notebooks/data_table.ipynb>data table notebook</a>'\n",
              "            + ' to learn more about interactive tables.';\n",
              "          element.innerHTML = '';\n",
              "          dataTable['output_type'] = 'display_data';\n",
              "          await google.colab.output.renderOutput(dataTable, element);\n",
              "          const docLink = document.createElement('div');\n",
              "          docLink.innerHTML = docLinkHtml;\n",
              "          element.appendChild(docLink);\n",
              "        }\n",
              "      </script>\n",
              "    </div>\n",
              "  </div>\n",
              "  "
            ],
            "text/plain": [
              "Party                   BJP         CPI      CPI(M)           INC          NCP\n",
              "FinancialYear                                                                 \n",
              "2003-04        1.168820e+08    779148.0    200000.0  2.830110e+07          NaN\n",
              "2004-05        3.395213e+08    630000.0    896355.0  3.205556e+08          NaN\n",
              "2005-06        3.615611e+07   3988690.0    550000.0  5.921249e+07          NaN\n",
              "2006-07        2.955067e+07   1229400.0   1124719.0  1.212735e+08          NaN\n",
              "2007-08        2.496237e+08   4125800.0   7226116.0  7.887345e+07   10225000.0\n",
              "2008-09        3.060572e+08   2585000.0   4155000.0  2.790185e+08   56091000.0\n",
              "2009-10        8.232201e+08   8667852.0   3962049.0  8.405212e+08   30300000.0\n",
              "2010-11        1.462533e+08  10811465.0  15357072.0  8.020588e+07    1355000.0\n",
              "2011-12        3.341941e+08   5982675.0  23838657.0  9.591066e+07   21000000.0\n",
              "2012-13        8.319245e+08   3695449.0  38139996.0  1.171662e+08     504000.0\n",
              "2013-14        1.708636e+09  12281544.0  20974666.0  5.958377e+08  140200000.0\n",
              "2014-15        4.373507e+09  13346675.0  34197498.0  1.414611e+09  388236419.0"
            ]
          },
          "metadata": {},
          "execution_count": 99
        }
      ]
    },
    {
      "cell_type": "markdown",
      "source": [
        "Moving forward, we would like to show the top three parties in India that have received the most donations. "
      ],
      "metadata": {
        "id": "Nka2BRVEK8p8"
      }
    },
    {
      "cell_type": "code",
      "source": [
        "df_top3 = df.groupby('Party').sum().nlargest(3,'Amount')\n",
        "df_top3"
      ],
      "metadata": {
        "colab": {
          "base_uri": "https://localhost:8080/",
          "height": 174
        },
        "id": "NMTAEf3u9Ue8",
        "outputId": "f6f67b95-b730-4eb2-9ae6-ebaf8050d94e"
      },
      "execution_count": 100,
      "outputs": [
        {
          "output_type": "execute_result",
          "data": {
            "text/html": [
              "\n",
              "  <div id=\"df-e85812a0-364e-498a-a7d8-9d453764615d\">\n",
              "    <div class=\"colab-df-container\">\n",
              "      <div>\n",
              "<style scoped>\n",
              "    .dataframe tbody tr th:only-of-type {\n",
              "        vertical-align: middle;\n",
              "    }\n",
              "\n",
              "    .dataframe tbody tr th {\n",
              "        vertical-align: top;\n",
              "    }\n",
              "\n",
              "    .dataframe thead th {\n",
              "        text-align: right;\n",
              "    }\n",
              "</style>\n",
              "<table border=\"1\" class=\"dataframe\">\n",
              "  <thead>\n",
              "    <tr style=\"text-align: right;\">\n",
              "      <th></th>\n",
              "      <th>Amount</th>\n",
              "    </tr>\n",
              "    <tr>\n",
              "      <th>Party</th>\n",
              "      <th></th>\n",
              "    </tr>\n",
              "  </thead>\n",
              "  <tbody>\n",
              "    <tr>\n",
              "      <th>BJP</th>\n",
              "      <td>9.295526e+09</td>\n",
              "    </tr>\n",
              "    <tr>\n",
              "      <th>INC</th>\n",
              "      <td>4.031487e+09</td>\n",
              "    </tr>\n",
              "    <tr>\n",
              "      <th>NCP</th>\n",
              "      <td>6.479114e+08</td>\n",
              "    </tr>\n",
              "  </tbody>\n",
              "</table>\n",
              "</div>\n",
              "      <button class=\"colab-df-convert\" onclick=\"convertToInteractive('df-e85812a0-364e-498a-a7d8-9d453764615d')\"\n",
              "              title=\"Convert this dataframe to an interactive table.\"\n",
              "              style=\"display:none;\">\n",
              "        \n",
              "  <svg xmlns=\"http://www.w3.org/2000/svg\" height=\"24px\"viewBox=\"0 0 24 24\"\n",
              "       width=\"24px\">\n",
              "    <path d=\"M0 0h24v24H0V0z\" fill=\"none\"/>\n",
              "    <path d=\"M18.56 5.44l.94 2.06.94-2.06 2.06-.94-2.06-.94-.94-2.06-.94 2.06-2.06.94zm-11 1L8.5 8.5l.94-2.06 2.06-.94-2.06-.94L8.5 2.5l-.94 2.06-2.06.94zm10 10l.94 2.06.94-2.06 2.06-.94-2.06-.94-.94-2.06-.94 2.06-2.06.94z\"/><path d=\"M17.41 7.96l-1.37-1.37c-.4-.4-.92-.59-1.43-.59-.52 0-1.04.2-1.43.59L10.3 9.45l-7.72 7.72c-.78.78-.78 2.05 0 2.83L4 21.41c.39.39.9.59 1.41.59.51 0 1.02-.2 1.41-.59l7.78-7.78 2.81-2.81c.8-.78.8-2.07 0-2.86zM5.41 20L4 18.59l7.72-7.72 1.47 1.35L5.41 20z\"/>\n",
              "  </svg>\n",
              "      </button>\n",
              "      \n",
              "  <style>\n",
              "    .colab-df-container {\n",
              "      display:flex;\n",
              "      flex-wrap:wrap;\n",
              "      gap: 12px;\n",
              "    }\n",
              "\n",
              "    .colab-df-convert {\n",
              "      background-color: #E8F0FE;\n",
              "      border: none;\n",
              "      border-radius: 50%;\n",
              "      cursor: pointer;\n",
              "      display: none;\n",
              "      fill: #1967D2;\n",
              "      height: 32px;\n",
              "      padding: 0 0 0 0;\n",
              "      width: 32px;\n",
              "    }\n",
              "\n",
              "    .colab-df-convert:hover {\n",
              "      background-color: #E2EBFA;\n",
              "      box-shadow: 0px 1px 2px rgba(60, 64, 67, 0.3), 0px 1px 3px 1px rgba(60, 64, 67, 0.15);\n",
              "      fill: #174EA6;\n",
              "    }\n",
              "\n",
              "    [theme=dark] .colab-df-convert {\n",
              "      background-color: #3B4455;\n",
              "      fill: #D2E3FC;\n",
              "    }\n",
              "\n",
              "    [theme=dark] .colab-df-convert:hover {\n",
              "      background-color: #434B5C;\n",
              "      box-shadow: 0px 1px 3px 1px rgba(0, 0, 0, 0.15);\n",
              "      filter: drop-shadow(0px 1px 2px rgba(0, 0, 0, 0.3));\n",
              "      fill: #FFFFFF;\n",
              "    }\n",
              "  </style>\n",
              "\n",
              "      <script>\n",
              "        const buttonEl =\n",
              "          document.querySelector('#df-e85812a0-364e-498a-a7d8-9d453764615d button.colab-df-convert');\n",
              "        buttonEl.style.display =\n",
              "          google.colab.kernel.accessAllowed ? 'block' : 'none';\n",
              "\n",
              "        async function convertToInteractive(key) {\n",
              "          const element = document.querySelector('#df-e85812a0-364e-498a-a7d8-9d453764615d');\n",
              "          const dataTable =\n",
              "            await google.colab.kernel.invokeFunction('convertToInteractive',\n",
              "                                                     [key], {});\n",
              "          if (!dataTable) return;\n",
              "\n",
              "          const docLinkHtml = 'Like what you see? Visit the ' +\n",
              "            '<a target=\"_blank\" href=https://colab.research.google.com/notebooks/data_table.ipynb>data table notebook</a>'\n",
              "            + ' to learn more about interactive tables.';\n",
              "          element.innerHTML = '';\n",
              "          dataTable['output_type'] = 'display_data';\n",
              "          await google.colab.output.renderOutput(dataTable, element);\n",
              "          const docLink = document.createElement('div');\n",
              "          docLink.innerHTML = docLinkHtml;\n",
              "          element.appendChild(docLink);\n",
              "        }\n",
              "      </script>\n",
              "    </div>\n",
              "  </div>\n",
              "  "
            ],
            "text/plain": [
              "             Amount\n",
              "Party              \n",
              "BJP    9.295526e+09\n",
              "INC    4.031487e+09\n",
              "NCP    6.479114e+08"
            ]
          },
          "metadata": {},
          "execution_count": 100
        }
      ]
    },
    {
      "cell_type": "markdown",
      "source": [
        "Alternatively, we created a data frame to present the same information. "
      ],
      "metadata": {
        "id": "wwx-vAufLHGm"
      }
    },
    {
      "cell_type": "code",
      "source": [
        "df_top3 = df.groupby('Party').sum().nlargest(3,'Amount')\n",
        "df_top3 = df_top3.reset_index()\n",
        "df_top3\n",
        "df_top3 = df_top3.values.tolist()\n",
        "df_top3"
      ],
      "metadata": {
        "colab": {
          "base_uri": "https://localhost:8080/"
        },
        "id": "nv0emzHCCH11",
        "outputId": "504f1546-8c4b-4d6f-d332-f6674882a4a5"
      },
      "execution_count": 101,
      "outputs": [
        {
          "output_type": "execute_result",
          "data": {
            "text/plain": [
              "[['BJP', 9295525996.0], ['INC', 4031487349.0], ['NCP', 647911419.0]]"
            ]
          },
          "metadata": {},
          "execution_count": 101
        }
      ]
    },
    {
      "cell_type": "markdown",
      "source": [
        "To visualize the insight we need to make use of the following code:"
      ],
      "metadata": {
        "id": "mr6d76qsLcqM"
      }
    },
    {
      "cell_type": "code",
      "source": [
        "df.groupby('Party')['Amount'].sum().sort_values(ascending=False).head(3).plot(kind='bar')\n",
        "plt.show()"
      ],
      "metadata": {
        "colab": {
          "base_uri": "https://localhost:8080/",
          "height": 301
        },
        "id": "eS8yS9zxCJ1c",
        "outputId": "112cbca2-3702-4705-d7b7-d6a92dab7ea1"
      },
      "execution_count": 102,
      "outputs": [
        {
          "output_type": "display_data",
          "data": {
            "image/png": "[encoded data removed]",
            "text/plain": [
              "<Figure size 432x288 with 1 Axes>"
            ]
          },
          "metadata": {
            "needs_background": "light"
          }
        }
      ]
    },
    {
      "cell_type": "markdown",
      "source": [
        "Finally, we visualize the distribution of donations among the top three parties over time"
      ],
      "metadata": {
        "id": "4sY79XjcMGZr"
      }
    },
    {
      "cell_type": "code",
      "source": [
        "df.groupby(['Party','FinancialYear'])['Amount'].sum().sort_values(ascending=False).head(10).plot(kind='bar',figsize=(10,5))\n",
        "plt.show()"
      ],
      "metadata": {
        "colab": {
          "base_uri": "https://localhost:8080/",
          "height": 411
        },
        "id": "cjYaulz1xaKf",
        "outputId": "e258b4e5-c808-42a6-cd91-76058e29ed4f"
      },
      "execution_count": 103,
      "outputs": [
        {
          "output_type": "display_data",
          "data": {
            "image/png": "[encoded data removed]",
            "text/plain": [
              "<Figure size 720x360 with 1 Axes>"
            ]
          },
          "metadata": {
            "needs_background": "light"
          }
        }
      ]
    }
  ]
}